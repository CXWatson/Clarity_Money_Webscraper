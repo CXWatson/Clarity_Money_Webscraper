{
 "cells": [
  {
   "cell_type": "code",
   "execution_count": 1,
   "metadata": {},
   "outputs": [],
   "source": [
    "from selenium import webdriver\n",
    "from selenium.webdriver.chrome.options import Options\n",
    "from selenium.webdriver.common.by import By\n",
    "from selenium.webdriver.support import expected_conditions as EC\n",
    "from selenium.webdriver.support.ui import WebDriverWait\n",
    "from selenium.webdriver.common.action_chains import ActionChains\n",
    "from bs4 import BeautifulSoup as soup\n",
    "import time\n",
    "import os\n",
    "import csv"
   ]
  },
  {
   "cell_type": "markdown",
   "metadata": {},
   "source": [
    "### Set up Chrome Options to bypass Two-Factor Authentication. Use Chrome Webdriver to Log In. Get the URLS and show more transactions. Pull all the transactions as a soup using BeatifulSoup"
   ]
  },
  {
   "cell_type": "code",
   "execution_count": 2,
   "metadata": {},
   "outputs": [],
   "source": [
    "# Chrome options to set up a user profile so once you log into Clarity Money once and enter the access code sent to the email. It will remember the user profile so it wont ask for the access code again.\n",
    "# Need to create a chrome user profile under google chrome settings\n",
    "chrome_options = Options()\n",
    "chrome_options.add_argument(\"--user-data-dir=C:\\\\Users\\\\Charles\\\\AppData\\\\Local\\\\Google\\\\Chrome\\\\User Data\\\\Profile 1\")\n",
    "chrome_options.add_argument(\"--disable-extensions\")\n",
    "chrome_options.add_argument(\"--profile-directory=Profile 1\")\n",
    "\n",
    "# Need to download chrome webdriver, check version of your google chrome and download the corresponding version of webdriver\n",
    "driver = webdriver.Chrome(executable_path=\"chromedriver.exe\", options = chrome_options)\n",
    "\n",
    "# Gets email and password from local machine\n",
    "email=os.getenv(\"CLARITY_MONEY_USER\")\n",
    "password=os.getenv(\"CLARITY_MONEY_PASS\")\n",
    "\n",
    "# URLs used for Clarity Money\n",
    "url = 'https://app.claritymoney.com'\n",
    "# Dashboard URL used for waitng for the page to load\n",
    "dash_url= 'https://app.claritymoney.com/dashboard'\n",
    "\n",
    "# Use Driver to access url and type in the email and passwords\n",
    "driver.get(url)\n",
    "driver.find_element_by_name('email').send_keys(email)\n",
    "driver.find_element_by_name('password').send_keys(password)\n",
    "\n",
    "# Clicks the log in button\n",
    "driver.find_element_by_class_name('btn-deepblue.mb-1.btn.btn-full').click()\n",
    "\n",
    "# Waits for dashboard page to load before anything else can be clicked.\n",
    "WebDriverWait(driver,200).until(EC.url_to_be(dash_url))\n",
    "\n",
    "#Clicks for full transactions on dashboard page\n",
    "driver.find_element_by_class_name('transactions-header-title').click()\n",
    "time.sleep(1)\n",
    "#Clicks the show more transactions\n",
    "driver.find_element_by_css_selector('#modal-transactions > div.ta-c.p-1 > div').click()\n",
    "time.sleep(1)\n",
    "driver.find_element_by_css_selector('#modal-transactions > div.ta-c.p-1 > div').click()\n",
    "time.sleep(1)\n",
    "driver.find_element_by_css_selector('#modal-transactions > div.ta-c.p-1 > div').click()\n",
    "time.sleep(1)\n",
    "\n",
    "# Get all transactions as html source\n",
    "html_source = driver.page_source\n",
    "# modal-undefined > div.ta-c.p-1 > div\n",
    "# document.querySelector(\"#modal-undefined > div.ta-c.p-1 > div\")\n",
    "\n",
    "# Turn HTML into soup\n",
    "page_soup = soup(html_source, \"html.parser\")"
   ]
  },
  {
   "cell_type": "markdown",
   "metadata": {},
   "source": [
    "### Checks to see if the soup has correct information by checking transaction"
   ]
  },
  {
   "cell_type": "code",
   "execution_count": 3,
   "metadata": {},
   "outputs": [],
   "source": [
    "# Gets the transactions by CSS Selector\n",
    "transactions_soup = page_soup.select(\"#modal-transactions>div\")"
   ]
  },
  {
   "cell_type": "code",
   "execution_count": 4,
   "metadata": {},
   "outputs": [],
   "source": [
    "# Finds all the transactions groups in Clarity Money\n",
    "transaction_container = page_soup.findAll(\"div\", {\"class\":\"transactions\"})"
   ]
  },
  {
   "cell_type": "code",
   "execution_count": 5,
   "metadata": {},
   "outputs": [
    {
     "data": {
      "text/plain": [
       "<div><div class=\"transaction-bar\"><span class=\"date\">May 19, 2020</span></div><button class=\"border-b transaction-item --clickable\" data-id=\"6525945063\"><!-- react-text: 2680 --> <!-- /react-text --><div class=\"f-aligncenter mw-100\"><div class=\"transaction-img f-cvja\"><span class=\"category-icon ff-taxonomy-icons transaction-icon\" style=\"background-image: -webkit-linear-gradient(top, rgb(17, 166, 102), rgb(26, 163, 115)); color: rgb(17, 166, 102); background-clip: text; -webkit-text-fill-color: transparent;\"><!-- react-text: 2684 --> <!-- /react-text --><!-- react-text: 2685 --><!-- /react-text --><!-- react-text: 2686 --> <!-- /react-text --></span></div><div class=\"transaction-name\">ORIG CO NAME:CARDMEMBER SERV CO ENTRY DESCR:WEB PYMT SEC:WEB IND ID:***********7440 ORIG ID:5911111111 (pending)</div><div class=\"transaction-info f-jcv\"><span><span class=\"\"><span aria-hidden=\"false\" aria-label=\"$2732.59\" class=\"currency\"><span aria-hidden=\"true\"><!-- react-text: 2693 -->$<!-- /react-text --><!-- react-text: 2694 -->2,732<!-- /react-text --><sup class=\"currency--cents\">.59</sup></span></span></span></span></div></div><!-- react-text: 2696 --> <!-- /react-text --></button><button class=\"border-b transaction-item --clickable\" data-id=\"6522490218\"><!-- react-text: 2698 --> <!-- /react-text --><div class=\"f-aligncenter mw-100\"><div class=\"transaction-img f-cvja\"><img alt=\"\" class=\"transaction-logo\" src=\"https://static.claritymoney.com/images/logos/brands/amazon.png\"/></div><div class=\"transaction-name\">Amazon (pending)</div><div class=\"transaction-info f-jcv\"><span><span class=\"\"><span aria-hidden=\"false\" aria-label=\"$107.79\" class=\"currency\"><span aria-hidden=\"true\"><!-- react-text: 2708 -->$<!-- /react-text --><!-- react-text: 2709 -->107<!-- /react-text --><sup class=\"currency--cents\">.79</sup></span></span></span></span></div></div><!-- react-text: 2711 --> <!-- /react-text --></button><button class=\"border-b transaction-item --clickable\" data-id=\"6527652510\"><!-- react-text: 2713 --> <!-- /react-text --><div class=\"f-aligncenter mw-100\"><div class=\"transaction-img f-cvja\"><img alt=\"\" class=\"transaction-logo\" src=\"https://static.claritymoney.com/images/logos/brands/popeyes.png\"/></div><div class=\"transaction-name\">Popeyes</div><div class=\"transaction-info f-jcv\"><span><span class=\"\"><span aria-hidden=\"false\" aria-label=\"$19.58\" class=\"currency\"><span aria-hidden=\"true\"><!-- react-text: 2723 -->$<!-- /react-text --><!-- react-text: 2724 -->19<!-- /react-text --><sup class=\"currency--cents\">.58</sup></span></span></span></span></div></div><!-- react-text: 2726 --> <!-- /react-text --></button><button class=\"border-b transaction-item --clickable\" data-id=\"6525945062\"><!-- react-text: 2728 --> <!-- /react-text --><div class=\"f-aligncenter mw-100\"><div class=\"transaction-img f-cvja\"><span class=\"category-icon ff-taxonomy-icons transaction-icon\" style=\"background-image: -webkit-linear-gradient(top, rgb(222, 98, 64), rgb(197, 40, 96)); color: rgb(222, 98, 64); background-clip: text; -webkit-text-fill-color: transparent;\"><!-- react-text: 2732 --> <!-- /react-text --><!-- react-text: 2733 --><!-- /react-text --><!-- react-text: 2734 --> <!-- /react-text --></span></div><div class=\"transaction-name\">DOORDASH*PETERS HOT BA (pending)</div><div class=\"transaction-info f-jcv\"><span><span class=\"\"><span aria-hidden=\"false\" aria-label=\"$20.78\" class=\"currency\"><span aria-hidden=\"true\"><!-- react-text: 2741 -->$<!-- /react-text --><!-- react-text: 2742 -->20<!-- /react-text --><sup class=\"currency--cents\">.78</sup></span></span></span></span></div></div><!-- react-text: 2744 --> <!-- /react-text --></button><button class=\"border-b transaction-item --clickable\" data-id=\"6525945064\"><!-- react-text: 2746 --> <!-- /react-text --><div class=\"f-aligncenter mw-100\"><div class=\"transaction-img f-cvja\"><span class=\"category-icon ff-taxonomy-icons transaction-icon\" style=\"background-image: -webkit-linear-gradient(top, rgb(26, 161, 146), rgb(14, 147, 97)); color: rgb(26, 161, 146); background-clip: text; -webkit-text-fill-color: transparent;\"><!-- react-text: 2750 --> <!-- /react-text --><!-- react-text: 2751 --><!-- /react-text --><!-- react-text: 2752 --> <!-- /react-text --></span></div><div class=\"transaction-name\">ORIG CO NAME:NYS DOL UI DD CO ENTRY DESCR:UI DD SEC:PPD ORIG ID:146013200U (pending)</div><div class=\"transaction-info f-jcv\"><span><span class=\"textcolor--green\"><span aria-hidden=\"false\" aria-label=\"$525.00\" class=\"currency\"><span aria-hidden=\"true\"><!-- react-text: 2759 -->$<!-- /react-text --><!-- react-text: 2760 -->525<!-- /react-text --><sup class=\"currency--cents\">.00</sup></span></span></span></span></div></div><!-- react-text: 2762 --> <!-- /react-text --></button><button class=\"border-b transaction-item --clickable\" data-id=\"6525945065\"><!-- react-text: 2764 --> <!-- /react-text --><div class=\"f-aligncenter mw-100\"><div class=\"transaction-img f-cvja\"><span class=\"category-icon ff-taxonomy-icons transaction-icon\" style=\"background-image: -webkit-linear-gradient(top, rgb(26, 161, 146), rgb(14, 147, 97)); color: rgb(26, 161, 146); background-clip: text; -webkit-text-fill-color: transparent;\"><!-- react-text: 2768 --> <!-- /react-text --><!-- react-text: 2769 --><!-- /react-text --><!-- react-text: 2770 --> <!-- /react-text --></span></div><div class=\"transaction-name\">ORIG CO NAME:NYS DOL UI DD CO ENTRY DESCR:UI DD SEC:PPD ORIG ID:146013200U (pending)</div><div class=\"transaction-info f-jcv\"><span><span class=\"textcolor--green\"><span aria-hidden=\"false\" aria-label=\"$441.00\" class=\"currency\"><span aria-hidden=\"true\"><!-- react-text: 2777 -->$<!-- /react-text --><!-- react-text: 2778 -->441<!-- /react-text --><sup class=\"currency--cents\">.00</sup></span></span></span></span></div></div><!-- react-text: 2780 --> <!-- /react-text --></button><button class=\"border-b transaction-item --clickable\" data-id=\"6527652506\"><!-- react-text: 2782 --> <!-- /react-text --><div class=\"f-aligncenter mw-100\"><div class=\"transaction-img f-cvja\"><img alt=\"\" class=\"transaction-logo\" src=\"https://static.claritymoney.com/images/logos/brands/amazon.png\"/></div><div class=\"transaction-name\">Amazon</div><div class=\"transaction-info f-jcv\"><span><span class=\"\"><span aria-hidden=\"false\" aria-label=\"$43.52\" class=\"currency\"><span aria-hidden=\"true\"><!-- react-text: 2792 -->$<!-- /react-text --><!-- react-text: 2793 -->43<!-- /react-text --><sup class=\"currency--cents\">.52</sup></span></span></span></span></div></div><!-- react-text: 2795 --> <!-- /react-text --></button><button class=\"border-b transaction-item --clickable\" data-id=\"6527652511\"><!-- react-text: 2797 --> <!-- /react-text --><div class=\"f-aligncenter mw-100\"><div class=\"transaction-img f-cvja\"><img alt=\"\" class=\"transaction-logo\" src=\"https://static.claritymoney.com/images/logos/brands/qdoba.png\"/></div><div class=\"transaction-name\">Qdoba</div><div class=\"transaction-info f-jcv\"><span><span class=\"\"><span aria-hidden=\"false\" aria-label=\"$22.09\" class=\"currency\"><span aria-hidden=\"true\"><!-- react-text: 2807 -->$<!-- /react-text --><!-- react-text: 2808 -->22<!-- /react-text --><sup class=\"currency--cents\">.09</sup></span></span></span></span></div></div><!-- react-text: 2810 --> <!-- /react-text --></button><button class=\"border-b transaction-item --clickable\" data-id=\"6525945061\"><!-- react-text: 2812 --> <!-- /react-text --><div class=\"f-aligncenter mw-100\"><div class=\"transaction-img f-cvja\"><span class=\"category-icon ff-taxonomy-icons transaction-icon\" style=\"background-image: -webkit-linear-gradient(top, rgb(217, 127, 29), rgb(224, 56, 93)); color: rgb(217, 127, 29); background-clip: text; -webkit-text-fill-color: transparent;\"><!-- react-text: 2816 --> <!-- /react-text --><!-- react-text: 2817 --><!-- /react-text --><!-- react-text: 2818 --> <!-- /react-text --></span></div><div class=\"transaction-name\">Amazon.com (pending)</div><div class=\"transaction-info f-jcv\"><span><span class=\"\"><span aria-hidden=\"false\" aria-label=\"$57.69\" class=\"currency\"><span aria-hidden=\"true\"><!-- react-text: 2825 -->$<!-- /react-text --><!-- react-text: 2826 -->57<!-- /react-text --><sup class=\"currency--cents\">.69</sup></span></span></span></span></div></div><!-- react-text: 2828 --> <!-- /react-text --></button><button class=\"border-b transaction-item --clickable\" data-id=\"6527652508\"><!-- react-text: 2830 --> <!-- /react-text --><div class=\"f-aligncenter mw-100\"><div class=\"transaction-img f-cvja\"><img alt=\"\" class=\"transaction-logo\" src=\"https://static.claritymoney.com/images/logos/brands/amazon.png\"/></div><div class=\"transaction-name\">Amazon</div><div class=\"transaction-info f-jcv\"><span><span class=\"\"><span aria-hidden=\"false\" aria-label=\"$61.51\" class=\"currency\"><span aria-hidden=\"true\"><!-- react-text: 2840 -->$<!-- /react-text --><!-- react-text: 2841 -->61<!-- /react-text --><sup class=\"currency--cents\">.51</sup></span></span></span></span></div></div><!-- react-text: 2843 --> <!-- /react-text --></button><button class=\"border-b transaction-item --clickable\" data-id=\"6527652509\"><!-- react-text: 2845 --> <!-- /react-text --><div class=\"f-aligncenter mw-100\"><div class=\"transaction-img f-cvja\"><img alt=\"\" class=\"transaction-logo\" src=\"https://static.claritymoney.com/images/logos/brands/amazon.png\"/></div><div class=\"transaction-name\">Amazon (pending)</div><div class=\"transaction-info f-jcv\"><span><span class=\"\"><span aria-hidden=\"false\" aria-label=\"$76.75\" class=\"currency\"><span aria-hidden=\"true\"><!-- react-text: 2855 -->$<!-- /react-text --><!-- react-text: 2856 -->76<!-- /react-text --><sup class=\"currency--cents\">.75</sup></span></span></span></span></div></div><!-- react-text: 2858 --> <!-- /react-text --></button><button class=\"border-b transaction-item --clickable\" data-id=\"6527652505\"><!-- react-text: 2860 --> <!-- /react-text --><div class=\"f-aligncenter mw-100\"><div class=\"transaction-img f-cvja\"><img alt=\"\" class=\"transaction-logo\" src=\"https://static.claritymoney.com/images/logos/brands/amazon.png\"/></div><div class=\"transaction-name\">Amazon</div><div class=\"transaction-info f-jcv\"><span><span class=\"\"><span aria-hidden=\"false\" aria-label=\"$13.01\" class=\"currency\"><span aria-hidden=\"true\"><!-- react-text: 2870 -->$<!-- /react-text --><!-- react-text: 2871 -->13<!-- /react-text --><sup class=\"currency--cents\">.01</sup></span></span></span></span></div></div><!-- react-text: 2873 --> <!-- /react-text --></button><button class=\"border-b transaction-item --clickable\" data-id=\"6527652507\"><!-- react-text: 2875 --> <!-- /react-text --><div class=\"f-aligncenter mw-100\"><div class=\"transaction-img f-cvja\"><img alt=\"\" class=\"transaction-logo\" src=\"https://static.claritymoney.com/images/logos/brands/amazon.png\"/></div><div class=\"transaction-name\">Amazon (pending)</div><div class=\"transaction-info f-jcv\"><span><span class=\"\"><span aria-hidden=\"false\" aria-label=\"$57.55\" class=\"currency\"><span aria-hidden=\"true\"><!-- react-text: 2885 -->$<!-- /react-text --><!-- react-text: 2886 -->57<!-- /react-text --><sup class=\"currency--cents\">.55</sup></span></span></span></span></div></div><!-- react-text: 2888 --> <!-- /react-text --></button></div>"
      ]
     },
     "execution_count": 5,
     "metadata": {},
     "output_type": "execute_result"
    }
   ],
   "source": [
    "# Prints the first group of transactions\n",
    "transactions_soup[0]"
   ]
  },
  {
   "cell_type": "code",
   "execution_count": 6,
   "metadata": {},
   "outputs": [
    {
     "data": {
      "text/plain": [
       "'May 19, 2020'"
      ]
     },
     "execution_count": 6,
     "metadata": {},
     "output_type": "execute_result"
    }
   ],
   "source": [
    "# Filters out the HTML for the date of the transaction\n",
    "transactions_soup[0].find(\"span\",{\"class\":\"date\"}).text"
   ]
  },
  {
   "cell_type": "code",
   "execution_count": 7,
   "metadata": {},
   "outputs": [
    {
     "data": {
      "text/plain": [
       "[<div class=\"transaction-name\">ORIG CO NAME:CARDMEMBER SERV CO ENTRY DESCR:WEB PYMT SEC:WEB IND ID:***********7440 ORIG ID:5911111111 (pending)</div>,\n",
       " <div class=\"transaction-name\">Amazon (pending)</div>,\n",
       " <div class=\"transaction-name\">Popeyes</div>,\n",
       " <div class=\"transaction-name\">DOORDASH*PETERS HOT BA (pending)</div>,\n",
       " <div class=\"transaction-name\">ORIG CO NAME:NYS DOL UI DD CO ENTRY DESCR:UI DD SEC:PPD ORIG ID:146013200U (pending)</div>,\n",
       " <div class=\"transaction-name\">ORIG CO NAME:NYS DOL UI DD CO ENTRY DESCR:UI DD SEC:PPD ORIG ID:146013200U (pending)</div>,\n",
       " <div class=\"transaction-name\">Amazon</div>,\n",
       " <div class=\"transaction-name\">Qdoba</div>,\n",
       " <div class=\"transaction-name\">Amazon.com (pending)</div>,\n",
       " <div class=\"transaction-name\">Amazon</div>,\n",
       " <div class=\"transaction-name\">Amazon (pending)</div>,\n",
       " <div class=\"transaction-name\">Amazon</div>,\n",
       " <div class=\"transaction-name\">Amazon (pending)</div>]"
      ]
     },
     "execution_count": 7,
     "metadata": {},
     "output_type": "execute_result"
    }
   ],
   "source": [
    "# Filters out the transactions associated with the date\n",
    "transactions_soup[0].find_all(\"div\",{\"class\":\"transaction-name\"})"
   ]
  },
  {
   "cell_type": "code",
   "execution_count": 8,
   "metadata": {},
   "outputs": [
    {
     "data": {
      "text/plain": [
       "['ORIG CO NAME:CARDMEMBER SERV CO ENTRY DESCR:WEB PYMT SEC:WEB IND ID:***********7440 ORIG ID:5911111111 (pending)']"
      ]
     },
     "execution_count": 8,
     "metadata": {},
     "output_type": "execute_result"
    }
   ],
   "source": [
    "# Finds just the one transaction and filters out the HTML tags\n",
    "transactions_soup[0].find(\"div\",{\"class\":\"transaction-name\"}).find_all(text=True)"
   ]
  },
  {
   "cell_type": "code",
   "execution_count": 9,
   "metadata": {},
   "outputs": [
    {
     "data": {
      "text/plain": [
       "'$2,732.59'"
      ]
     },
     "execution_count": 9,
     "metadata": {},
     "output_type": "execute_result"
    }
   ],
   "source": [
    "# Finds all the transaction prices\n",
    "html_transaction_info = page_soup.findAll(\"div\", {\"class\":\"transaction-info\"})\n",
    "\n",
    "# Prints the first transactions and filters out the HTML tags\n",
    "html_transaction_info[0].text"
   ]
  },
  {
   "cell_type": "code",
   "execution_count": 25,
   "metadata": {},
   "outputs": [
    {
     "data": {
      "text/plain": [
       "'May 13, 2020'"
      ]
     },
     "execution_count": 25,
     "metadata": {},
     "output_type": "execute_result"
    }
   ],
   "source": [
    "# Finding the date for a corresponding transaction\n",
    "transactions_soup[0].find(\"div\",{\"class\":\"transaction-name\"}).find_previous(\"span\",{\"class\":\"date\"}).text"
   ]
  },
  {
   "cell_type": "markdown",
   "metadata": {},
   "source": [
    "### Combine all the collected transactions into 1 list using a For Loop"
   ]
  },
  {
   "cell_type": "code",
   "execution_count": 58,
   "metadata": {},
   "outputs": [],
   "source": [
    "# Create an empty list to store data values\n",
    "transactions_list=[]"
   ]
  },
  {
   "cell_type": "code",
   "execution_count": 59,
   "metadata": {},
   "outputs": [],
   "source": [
    "# Loops through  transactions to find the transaction name, date, and information.\n",
    "for transactions in transactions_soup[:-1]:\n",
    "    current_date = transactions.find(\"div\",{\"class\":\"transaction-name\"}).find_previous(\"span\",{\"class\":\"date\"}).text\n",
    "    transaction_date = transactions.find(\"span\",{\"class\":\"date\"}).text\n",
    "    transaction_name = transactions.find_all(\"div\",{\"class\":\"transaction-name\"})\n",
    "    transaction_info = transactions.find_all(\"div\",{\"class\":\"transaction-info f-jcv\"})\n",
    "    \n",
    "    # Loop combines name, date, information into 1 list.\n",
    "    for i in range(len(transaction_name)):\n",
    "        transactions_list.append(current_date.replace(',',''))\n",
    "        transactions_list.append(transaction_name[i].text.replace(',',\"\"))\n",
    "        transactions_list.append(transaction_info[i].text.replace(',',\"\"))"
   ]
  },
  {
   "cell_type": "code",
   "execution_count": 60,
   "metadata": {},
   "outputs": [
    {
     "name": "stdout",
     "output_type": "stream",
     "text": [
      "['May 19 2020', 'ORIG CO NAME:CARDMEMBER SERV CO ENTRY DESCR:WEB PYMT SEC:WEB IND ID:***********7440 ORIG ID:5911111111 (pending)', '$2732.59', 'May 19 2020', 'Amazon (pending)', '$107.79', 'May 19 2020', 'Popeyes', '$19.58', 'May 19 2020', 'DOORDASH*PETERS HOT BA (pending)', '$20.78', 'May 19 2020', 'ORIG CO NAME:NYS DOL UI DD CO ENTRY DESCR:UI DD SEC:PPD ORIG ID:146013200U (pending)', '$525.00', 'May 19 2020', 'ORIG CO NAME:NYS DOL UI DD CO ENTRY DESCR:UI DD SEC:PPD ORIG ID:146013200U (pending)', '$441.00', 'May 19 2020', 'Amazon', '$43.52', 'May 19 2020', 'Qdoba', '$22.09', 'May 19 2020', 'Amazon.com (pending)', '$57.69', 'May 19 2020', 'Amazon', '$61.51', 'May 19 2020', 'Amazon (pending)', '$76.75', 'May 19 2020', 'Amazon', '$13.01', 'May 19 2020', 'Amazon (pending)', '$57.55', 'May 18 2020', 'DOORDASH*LONG ISLAND B', '$14.44', 'May 18 2020', 'Internet Payment Thank You', '$2732.59', 'May 18 2020', 'DOORDASH', '$2.00', 'May 18 2020', 'MACYS .COM']\n"
     ]
    }
   ],
   "source": [
    "# Check list\n",
    "print(transactions_list[0:50])"
   ]
  },
  {
   "cell_type": "code",
   "execution_count": 61,
   "metadata": {},
   "outputs": [
    {
     "data": {
      "text/plain": [
       "'2,732.59'"
      ]
     },
     "execution_count": 61,
     "metadata": {},
     "output_type": "execute_result"
    }
   ],
   "source": [
    "# Sample to convert the string into a float\n",
    "html_transaction_info = page_soup.findAll(\"div\", {\"class\":\"transaction-info\"})\n",
    "price = html_transaction_info[0].text\n",
    "price.replace('$',\"\")"
   ]
  },
  {
   "cell_type": "code",
   "execution_count": 62,
   "metadata": {},
   "outputs": [],
   "source": [
    "# test_string = transactions_list[0:7]\n",
    "with open('transactions_may142020.csv', 'w') as csvfile:\n",
    "    count = 0\n",
    "    for i in transactions_list:\n",
    "        if count < 3:\n",
    "            csvfile.write(i)\n",
    "            csvfile.write(',')\n",
    "            count+=1\n",
    "        else:\n",
    "            csvfile.write('\\n')\n",
    "            csvfile.write(i)\n",
    "            csvfile.write(',')\n",
    "            count = 1\n",
    "# Used to reference and view html gathered.\n",
    "# print(page_soup)"
   ]
  },
  {
   "cell_type": "code",
   "execution_count": null,
   "metadata": {},
   "outputs": [],
   "source": []
  }
 ],
 "metadata": {
  "kernelspec": {
   "display_name": "Python 3",
   "language": "python",
   "name": "python3"
  },
  "language_info": {
   "codemirror_mode": {
    "name": "ipython",
    "version": 3
   },
   "file_extension": ".py",
   "mimetype": "text/x-python",
   "name": "python",
   "nbconvert_exporter": "python",
   "pygments_lexer": "ipython3",
   "version": "3.7.7"
  }
 },
 "nbformat": 4,
 "nbformat_minor": 4
}
